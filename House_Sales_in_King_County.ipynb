{
 "cells": [
  {
   "cell_type": "markdown",
   "metadata": {
    "_cell_guid": "b1076dfc-b9ad-4769-8c92-a6c4dae69d19",
    "_uuid": "8f2839f25d086af736a60e9eeb907d3b93b6e0e5",
    "collapsed": true
   },
   "source": [
    "# Predict house price using regression"
   ]
  },
  {
   "cell_type": "code",
   "execution_count": null,
   "metadata": {
    "_cell_guid": "79c7e3d0-c299-4dcb-8224-4455121ee9b0",
    "_uuid": "d629ff2d2480ee46fbb7e2d37f6b5fab8052498a"
   },
   "outputs": [],
   "source": [
    "import numpy as np\n",
    "import pandas as pd\n",
    "from sklearn import linear_model\n",
    "from sklearn.ensemble import RandomForestRegressor\n",
    "from sklearn.model_selection import train_test_split\n",
    "from sklearn.metrics import mean_squared_error\n",
    "from sklearn.preprocessing import MinMaxScaler\n",
    "from scipy import stats\n",
    "import matplotlib as mpl\n",
    "import matplotlib.pyplot as plt\n",
    "import seaborn as sns\n",
    "sns.set_style(\"whitegrid\")\n",
    "%matplotlib inline "
   ]
  },
  {
   "cell_type": "code",
   "execution_count": 8,
   "metadata": {
    "_cell_guid": "04b2db10-3073-40a5-8119-dbb4ecb1593d",
    "_uuid": "2650ebd4ff67c63b724a9076a49d05892414457c"
   },
   "outputs": [],
   "source": [
    "ds = pd.read_csv(\"../input/kc_house_data.csv\")\n",
    "ds.head()"
   ]
  },
  {
   "cell_type": "code",
   "execution_count": 4,
   "metadata": {
    "_cell_guid": "f1c1fc03-c5c4-4ea7-8f4b-97255af7da66",
    "_uuid": "e3021ebba1720ad3cfe928624c8a806acbd792bc"
   },
   "outputs": [],
   "source": [
    "ds.describe()"
   ]
  },
  {
   "cell_type": "code",
   "execution_count": 5,
   "metadata": {
    "_cell_guid": "160d35f2-396f-4c49-ae30-fcefb243febd",
    "_uuid": "91a37ce113ad6d634b90aaed5266d988225f4995"
   },
   "outputs": [],
   "source": [
    "ds.dtypes"
   ]
  },
  {
   "cell_type": "code",
   "execution_count": 9,
   "metadata": {
    "_cell_guid": "cc86998e-070a-4ed5-a387-fd934b58aac2",
    "_uuid": "299454ca3de918c22d612a38188b61cd98e98b27"
   },
   "outputs": [],
   "source": [
    "ds = ds.drop(['id', 'date'], axis = 1)"
   ]
  },
  {
   "cell_type": "markdown",
   "metadata": {
    "_cell_guid": "3eb9009c-e6a5-4652-bbf3-9fee7f9a73f2",
    "_uuid": "c5138fbf6fe49f7ad85e66349002e6b360f38de9"
   },
   "source": [
    "# Price distribution"
   ]
  },
  {
   "cell_type": "code",
   "execution_count": 10,
   "metadata": {
    "_cell_guid": "57c5220a-37ee-4f5c-930c-6334b7fe1c87",
    "_uuid": "3f532712b7c3a422f2ab13c06b9465dc6920c616"
   },
   "outputs": [],
   "source": [
    "f, ax = plt.subplots(figsize=(12,5))\n",
    "sns.distplot(ds.price, ax = ax, fit = stats.gausshyper)\n",
    "plt.show()"
   ]
  },
  {
   "cell_type": "markdown",
   "metadata": {
    "_cell_guid": "bf9df658-ce64-4b23-b4f0-75c61988a14c",
    "_uuid": "56e39f57ff707c9d99b2c7c2f7cccababf79dbdf"
   },
   "source": [
    "As we can see the price distribution is skewed to the right (Positive Skew). "
   ]
  },
  {
   "cell_type": "code",
   "execution_count": 11,
   "metadata": {
    "_cell_guid": "a79d8b76-b68e-43d0-bb94-ee6644129069",
    "_uuid": "55a9c76820132aaee31325d410425aecb90622e4",
    "scrolled": false
   },
   "outputs": [],
   "source": [
    "f, ax = plt.subplots(figsize=(12,5))\n",
    "sns.boxplot(x = 'price', data = ds, ax=ax, showmeans=True, fliersize=3, orient=\"h\", color = \"silver\")\n",
    "plt.show()\n",
    "\n",
    "print('Min: ' + str(ds['price'].min()))\n",
    "print('1 Q: ' + str(np.percentile(ds['price'], 25)))\n",
    "print('Median:' + str(ds.price.median()))\n",
    "print('3 Q: ' + str(np.percentile(ds['price'], 75)))\n",
    "print('Max: ' + str(ds['price'].max()))"
   ]
  },
  {
   "cell_type": "markdown",
   "metadata": {
    "_cell_guid": "0f652da1-17d6-4f2f-a0a3-d75917304d65",
    "_uuid": "f9b2d22edf09b8f06a88b27307cf401407b18ee7"
   },
   "source": [
    "The boxplot above shows us that there are many outliers. There are few prices above 500.000.  "
   ]
  },
  {
   "cell_type": "code",
   "execution_count": 12,
   "metadata": {
    "_cell_guid": "9f05462e-c960-4d2e-a335-7efe32c18cef",
    "_uuid": "0f3137b8edec305780cb0876aa7bf647f13c8811",
    "collapsed": true
   },
   "outputs": [],
   "source": [
    "# add a new variable to analyse if the house is renovated\n",
    "ds['is_renovated'] = ds['yr_renovated'].apply(lambda x: 1 if x > 0 else 0)"
   ]
  },
  {
   "cell_type": "code",
   "execution_count": 13,
   "metadata": {
    "_cell_guid": "3b8e02a8-8de2-42cb-a342-75ede4d17f3d",
    "_uuid": "4cec28a8dfc18d40d7bd53d4518dd59818f30bed"
   },
   "outputs": [],
   "source": [
    "sns.countplot(x = ds.is_renovated, data = ds)\n",
    "print(ds['is_renovated'].value_counts())"
   ]
  },
  {
   "cell_type": "markdown",
   "metadata": {
    "_cell_guid": "350bfc50-9899-4d5e-96ed-a5d28cad265a",
    "_uuid": "93c3647061dabe07120689878b4e21941650a54a"
   },
   "source": [
    "As we can see there are many houses that were sold without a renewed.\n",
    "Lets see the correlation among variables to have an idea regarding the impact of each variable on house price."
   ]
  },
  {
   "cell_type": "markdown",
   "metadata": {
    "_cell_guid": "ea541697-972c-4304-b292-50f79d118a78",
    "_uuid": "fc98e984d754074fb804a2da52ec7a8e9bbeddff"
   },
   "source": [
    "# Correlation coefficient"
   ]
  },
  {
   "cell_type": "code",
   "execution_count": 14,
   "metadata": {
    "_cell_guid": "e032b93c-aa0f-4e50-a431-9a7ecc3bfac8",
    "_uuid": "58c988a08f86aa996273d54f286fea7c7c6800fe"
   },
   "outputs": [],
   "source": [
    "# Continous and Categorical variables\n",
    "# To biserial variables (i.e. is_renovated and waterfront) we could use stats.biserial (https://docs.scipy.org/doc/scipy-0.14.0/reference/generated/scipy.stats.pointbiserialr.html)\n",
    "ds.drop(['view','grade','floors','bedrooms','bathrooms','condition'], axis = 1).corr(method = 'pearson')"
   ]
  },
  {
   "cell_type": "markdown",
   "metadata": {
    "_cell_guid": "bcd76d80-1197-4049-a227-d0d637442755",
    "_uuid": "af55dac87cd9669e5b08c88897fc4fc780f483f2"
   },
   "source": [
    "We can see that the variables 'sqft_living', 'sqft_above' and 'sqft_living15' have a significant positive relationship with price."
   ]
  },
  {
   "cell_type": "code",
   "execution_count": 15,
   "metadata": {
    "_cell_guid": "5d3dfa1d-ed61-46fe-a36e-9ab242b77a44",
    "_uuid": "f89bf9a219a663a0af00941ac4bdbbf21616499a"
   },
   "outputs": [],
   "source": [
    "%%javascript\n",
    "IPython.OutputArea.auto_scroll_threshold = 9999;"
   ]
  },
  {
   "cell_type": "markdown",
   "metadata": {
    "_cell_guid": "dda93661-01b3-4f51-b92c-f39931eaf3f5",
    "_uuid": "51de2ad35c8dd91ecccf33e6c5b05c491d77951c"
   },
   "source": [
    "Below we have plots to show us the relationship among continuous variables that have at least correlation coefficient higher than 0.3 with price."
   ]
  },
  {
   "cell_type": "code",
   "execution_count": 16,
   "metadata": {
    "_cell_guid": "2cc4f258-fe38-4ca5-b445-6d2328366fd6",
    "_uuid": "809287c271717c5543e7e6261ad6720767a56fd4"
   },
   "outputs": [],
   "source": [
    "sns.jointplot(x = 'sqft_living', y = 'price', data = ds, kind = 'reg')\n",
    "sns.jointplot(x = 'sqft_above', y = 'price', data = ds, kind = 'reg')\n",
    "sns.jointplot(x = 'sqft_living15', y = 'price', data = ds, kind = 'reg')\n",
    "sns.jointplot(x = 'sqft_basement', y = 'price', data = ds, kind = 'reg')\n",
    "sns.jointplot(x = 'lat', y = 'price', data = ds, kind = 'reg')\n",
    "plt.show()"
   ]
  },
  {
   "cell_type": "markdown",
   "metadata": {
    "_cell_guid": "4a692e60-5641-4fd2-9aa4-71cd2ff53e1a",
    "_uuid": "dfbfae84da96efcf85340cb31a0a62234cfee5e5"
   },
   "source": [
    "We can see that there are a lot of zeros in the plot that show the relationship between price and sqlt_basement. Maybe we can create another biserial variable based on sqlt_basement.\n"
   ]
  },
  {
   "cell_type": "markdown",
   "metadata": {
    "_cell_guid": "5072e4f6-02fe-4a75-9eba-6d78ed3ce221",
    "_uuid": "1a4631b971e3baee9c54a5c76687e16371eefa4d"
   },
   "source": [
    "# Biserial variables"
   ]
  },
  {
   "cell_type": "code",
   "execution_count": 17,
   "metadata": {
    "_cell_guid": "28a7a217-f36c-4862-b0d3-60b0e290bad3",
    "_uuid": "374d59edd5cf9f0020ff69fae86edfb7a9f06aa4"
   },
   "outputs": [],
   "source": [
    "#Price by waterfront\n",
    "f, ax = plt.subplots(figsize=(12,5))\n",
    "sns.boxplot(x=\"waterfront\", y=\"price\" , hue=\"waterfront\", ax=ax, data=ds, dodge = False)\n",
    "plt.show()"
   ]
  },
  {
   "cell_type": "markdown",
   "metadata": {
    "_cell_guid": "42761dae-3f1a-43f6-8100-7303c0ee5ba1",
    "_uuid": "39de60ae253cc5ca74587283e05bbda3cedcd358"
   },
   "source": [
    "Looking at boxplot above, the price varies more when the house has waterfront."
   ]
  },
  {
   "cell_type": "code",
   "execution_count": 18,
   "metadata": {
    "_cell_guid": "b34b9499-c4bb-432b-bcb5-e2eee4c0507a",
    "_uuid": "9abfd2d861837cc40eeefa6383253d3880c11432"
   },
   "outputs": [],
   "source": [
    "#Price by is_renovated\n",
    "f, ax = plt.subplots(figsize=(12,5))\n",
    "sns.boxplot(x=\"is_renovated\", y=\"price\" , hue=\"is_renovated\", ax=ax, data=ds, dodge = False)\n",
    "plt.show()"
   ]
  },
  {
   "cell_type": "code",
   "execution_count": 19,
   "metadata": {
    "_cell_guid": "59fe62bb-2206-44fc-b0a7-daafd9648e35",
    "_uuid": "7b41ab0f4a4d39f06480b3d26a8679f484aff614"
   },
   "outputs": [],
   "source": [
    "#Ordinal variables\n",
    "ds[['price','view','grade','floors','bedrooms','bathrooms','condition']].corr(method = 'spearman')"
   ]
  },
  {
   "cell_type": "markdown",
   "metadata": {
    "_uuid": "1e974dc044dbae99a8ac578b6cabcb919fb83674"
   },
   "source": [
    "Let's analyse the price by grade. As we can see above, grade has a significant relationship with price."
   ]
  },
  {
   "cell_type": "code",
   "execution_count": 20,
   "metadata": {
    "_cell_guid": "723c1769-761e-4bc4-82c7-cf070a3169c1",
    "_uuid": "eecea253c4f5038ba1be0cec1bd2d86a691e21c0"
   },
   "outputs": [],
   "source": [
    "#Price by grade\n",
    "f, ax = plt.subplots(figsize=(12,5))\n",
    "sns.boxplot(x=\"grade\", y=\"price\" , hue=\"grade\", ax=ax, data=ds, dodge = False);\n",
    "plt.show()"
   ]
  },
  {
   "cell_type": "code",
   "execution_count": 66,
   "metadata": {
    "_cell_guid": "ba48efc1-5960-4b31-8419-93c893407b9f",
    "_uuid": "14099de5fd873ac4619cf030cf610525458c6d4a"
   },
   "outputs": [],
   "source": [
    "f, ax = plt.subplots(figsize=(12,5))\n",
    "sns.countplot(x = ds.grade, data = ds)\n",
    "plt.show()\n",
    "ds.groupby([\"grade\"])[\"grade\"].count()\n"
   ]
  },
  {
   "cell_type": "markdown",
   "metadata": {
    "_uuid": "30ede9987602e2105e500d60b34935bc79713625"
   },
   "source": [
    "Let's see the value accumulated by grade."
   ]
  },
  {
   "cell_type": "code",
   "execution_count": 63,
   "metadata": {
    "_cell_guid": "c94c1678-5716-4880-ab0f-2dc904ad9e82",
    "_uuid": "6211888a9923baefc4215726eca15fadf55951ff"
   },
   "outputs": [],
   "source": [
    "ds[['grade', 'price']].groupby('grade')['price'].sum().map('{:,.2f}'.format)"
   ]
  },
  {
   "cell_type": "code",
   "execution_count": 67,
   "metadata": {
    "_cell_guid": "1b26bfc3-3b60-46a2-a9e0-540d2e066d70",
    "_uuid": "4758ad9aba46a77197e1d61117f54af941870b56"
   },
   "outputs": [],
   "source": [
    "#Price by view\n",
    "f, ax = plt.subplots(figsize=(12,5))\n",
    "sns.boxplot(x=\"view\", y=\"price\" , hue=\"view\", ax=ax, data=ds, dodge = False);\n",
    "plt.show()"
   ]
  },
  {
   "cell_type": "code",
   "execution_count": 68,
   "metadata": {
    "_cell_guid": "5dcf5851-cbd5-4feb-9de3-fe7c86176378",
    "_uuid": "d07ffe5d8ca3b23775244e73220236c6cbe1e712"
   },
   "outputs": [],
   "source": [
    "#Price by bedrooms\n",
    "f, ax = plt.subplots(figsize=(12,5))\n",
    "sns.boxplot(x=\"bedrooms\", y=\"price\" , hue=\"bedrooms\", ax=ax, data=ds, dodge = False);\n",
    "plt.show()"
   ]
  },
  {
   "cell_type": "code",
   "execution_count": 49,
   "metadata": {
    "_cell_guid": "1481978d-18d0-4c09-abb2-8c8a5e7b7eb9",
    "_uuid": "3350010c2d135730b3468f4f2651af8e63169e35"
   },
   "outputs": [],
   "source": [
    "#Price by bathrooms\n",
    "f, ax = plt.subplots(figsize=(12,10))\n",
    "sns.boxplot(x=\"bathrooms\", y=\"price\" , hue=\"bathrooms\", ax=ax, data=ds, dodge = False)\n",
    "plt.show()"
   ]
  },
  {
   "cell_type": "markdown",
   "metadata": {
    "_cell_guid": "8e27952c-f6d3-40ee-bb83-52735a20d784",
    "_uuid": "bf8e7b9a22eeb1119ce87ad46b4bc9b8b5438953"
   },
   "source": [
    "# Linear Regression - Model Version 1"
   ]
  },
  {
   "cell_type": "code",
   "execution_count": 50,
   "metadata": {
    "_cell_guid": "d2bad0c5-5002-4fab-ac87-6b7995f3431a",
    "_uuid": "19af94deea8a8235bf6aa0fcfcdd0b732b7e414f",
    "scrolled": true
   },
   "outputs": [],
   "source": [
    "#Define X and Y\n",
    "x = ds.drop(['price'], axis = 1)\n",
    "y = ds['price'].values\n",
    "\n",
    "#Split data\n",
    "x_train, x_test, y_train, y_test = train_test_split(x, y, test_size = 0.30)\n",
    "\n",
    "#create linear model\n",
    "model_1 = linear_model.LinearRegression()\n",
    "\n",
    "#train model\n",
    "model_1_fit = model_1.fit(x_train, y_train)\n",
    "\n",
    "#evaluating error\n",
    "mean_squared_error(model_1_fit.predict(x_test), y_test)"
   ]
  },
  {
   "cell_type": "markdown",
   "metadata": {
    "_cell_guid": "09eba8db-0e42-429a-860d-60ed24ca23ed",
    "_uuid": "9341bc9b4bbeebe0cb847d431f6f8f8705a786dc"
   },
   "source": [
    "# Linear Regression - Model Version 2\n",
    "### Apply MinMaxScaler"
   ]
  },
  {
   "cell_type": "code",
   "execution_count": 51,
   "metadata": {
    "_cell_guid": "4a5e9459-f2e9-4b1c-ab1f-7d76eba03545",
    "_uuid": "02f90fc401c205cac7c659faadadf7e0b9182034"
   },
   "outputs": [],
   "source": [
    "#Define X and Y\n",
    "x = ds.drop(['price'], axis = 1)\n",
    "scaler = MinMaxScaler(feature_range=(0,1))\n",
    "x = scaler.fit_transform(x)\n",
    "y = ds['price'].values\n",
    "\n",
    "#Split Data\n",
    "x_train, x_test, y_train, y_test = train_test_split(x, y, test_size = 0.30)\n",
    "\n",
    "#create Linear Model\n",
    "model_2 = linear_model.LinearRegression()\n",
    "\n",
    "#train model\n",
    "model_2_fit = model_2.fit(x_train, y_train)\n",
    "\n",
    "#evaluating error\n",
    "mean_squared_error(model_2_fit.predict(x_test), y_test)"
   ]
  },
  {
   "cell_type": "markdown",
   "metadata": {
    "_cell_guid": "6adcfb22-506a-4be7-a0f8-2323c3929a87",
    "_uuid": "2dd6cfc3737404f2999d20719309563264e8ef08"
   },
   "source": [
    "# Random Forest Regressor - Model Version 1"
   ]
  },
  {
   "cell_type": "code",
   "execution_count": 69,
   "metadata": {
    "_cell_guid": "673af47d-cca0-4c68-8e10-e08bb4b30fbc",
    "_uuid": "bb59d7aac23acd85a895060106adc60268a16e43"
   },
   "outputs": [],
   "source": [
    "#Define x and y\n",
    "x = ds.drop(['price'], axis = 1)\n",
    "y = ds['price'].values\n",
    "\n",
    "#Split Data\n",
    "x_train, x_test, y_train, y_test = train_test_split(x, y, test_size = 0.30)\n",
    "\n",
    "#train\n",
    "rf = RandomForestRegressor()\n",
    "rf.fit(x_train, y_train)\n",
    "\n",
    "#evaluating error\n",
    "mean_squared_error(rf.predict(x_test), y_test)"
   ]
  },
  {
   "cell_type": "code",
   "execution_count": 70,
   "metadata": {
    "_cell_guid": "06ec2b3f-505b-454f-955f-2a019967e779",
    "_uuid": "ad104857c493db858cfb075fc6af49e6135a8aab",
    "scrolled": false
   },
   "outputs": [],
   "source": [
    "#Feature importance \n",
    "sorted(zip(map(lambda x: round(x, 4), rf.feature_importances_), ds.drop(['price'], axis = 1).columns), reverse=True)"
   ]
  },
  {
   "cell_type": "markdown",
   "metadata": {
    "_cell_guid": "59472cdc-111c-4ac0-857a-9f3aff606c43",
    "_uuid": "86e4ddf8e4ab3056bf1cb87def02a9dafe712c9b"
   },
   "source": [
    "# Next steps:\n",
    "* Try to add dummy variables to deal with  view, grade, condition and floors to increase Linear Model performance\n",
    "* GridSearch to RandomForest\n",
    "* Find a way (learn how) to deal with zipcode\n"
   ]
  },
  {
   "cell_type": "markdown",
   "metadata": {
    "_uuid": "24cc263154450180021df0cfb7925d0796463a73"
   },
   "source": [
    "Feel free to send me your thoughts or questions about this Kernel. It would be great."
   ]
  }
 ],
 "metadata": {
  "kernelspec": {
   "display_name": "Python 3",
   "language": "python",
   "name": "python3"
  },
  "language_info": {
   "codemirror_mode": {
    "name": "ipython",
    "version": 3
   },
   "file_extension": ".py",
   "mimetype": "text/x-python",
   "name": "python",
   "nbconvert_exporter": "python",
   "pygments_lexer": "ipython3",
   "version": "3.6.4"
  }
 },
 "nbformat": 4,
 "nbformat_minor": 1
}
