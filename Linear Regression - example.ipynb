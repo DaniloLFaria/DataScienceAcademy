{
 "cells": [
  {
   "cell_type": "code",
   "execution_count": 2,
   "metadata": {},
   "outputs": [],
   "source": [
    "from pyspark.sql import Row\n",
    "from pyspark.ml.linalg import Vectors\n",
    "from pyspark.ml.regression import LinearRegression\n",
    "from pyspark.ml.evaluation import RegressionEvaluator"
   ]
  },
  {
   "cell_type": "code",
   "execution_count": 3,
   "metadata": {},
   "outputs": [],
   "source": [
    "cRDD = sc.textFile(\"data\\carros.csv\")"
   ]
  },
  {
   "cell_type": "code",
   "execution_count": 4,
   "metadata": {},
   "outputs": [
    {
     "data": {
      "text/plain": [
       "399"
      ]
     },
     "execution_count": 4,
     "metadata": {},
     "output_type": "execute_result"
    }
   ],
   "source": [
    "cRDD.count()"
   ]
  },
  {
   "cell_type": "code",
   "execution_count": null,
   "metadata": {},
   "outputs": [],
   "source": [
    "# Is possible to let this RDD in cache. When we have a large amount of data to process, it will improve the speed of processing.\n",
    "#cRDD.cache()"
   ]
  },
  {
   "cell_type": "code",
   "execution_count": 10,
   "metadata": {},
   "outputs": [],
   "source": [
    "# Filtering RDD  to remove the fisrt line, and create a new one. We need to create a new RDD because RDDs are immutable.\n",
    "newRDD = cRDD.filter(lambda x: \"DISPLACEMENT\" not in x)"
   ]
  },
  {
   "cell_type": "code",
   "execution_count": 11,
   "metadata": {},
   "outputs": [
    {
     "data": {
      "text/plain": [
       "['18,8,307,130,3504,12,70,chevrolet chevelle malibu',\n",
       " '15,8,350,165,3693,11.5,70,buick skylark 320',\n",
       " '18,8,318,150,3436,11,70,plymouth satellite']"
      ]
     },
     "execution_count": 11,
     "metadata": {},
     "output_type": "execute_result"
    }
   ],
   "source": [
    "newRDD.take(3)"
   ]
  },
  {
   "cell_type": "markdown",
   "metadata": {},
   "source": [
    "# Clean Data"
   ]
  },
  {
   "cell_type": "code",
   "execution_count": 6,
   "metadata": {},
   "outputs": [],
   "source": [
    "mediaHP = sc.broadcast(75.0)"
   ]
  },
  {
   "cell_type": "code",
   "execution_count": 34,
   "metadata": {},
   "outputs": [],
   "source": [
    "def cleandata(inputStr):\n",
    "    global mediaHP\n",
    "    attList = inputStr.split(',')\n",
    "    \n",
    "    hp = attList[3]\n",
    "    if hp == '?':\n",
    "        hp = mediaHP.value\n",
    "        \n",
    "    line = Row(MPG = float(attList[0]), CYLINDERS = float(attList[1]), DISPLACEMENT = float(attList[2]), HP = float(hp), \n",
    "               WEIGHT = float(attList[4]), ACCELERATION = float(attList[5]), MODELYEAR = float(attList[6]), NAME = attList[7])\n",
    "    \n",
    "    return line        "
   ]
  },
  {
   "cell_type": "code",
   "execution_count": 35,
   "metadata": {},
   "outputs": [
    {
     "data": {
      "text/plain": [
       "[Row(ACCELERATION=12.0, CYLINDERS=8.0, DISPLACEMENT=307.0, HP=130.0, MODELYEAR=70.0, MPG=18.0, NAME='chevrolet chevelle malibu', WEIGHT=3504.0),\n",
       " Row(ACCELERATION=11.5, CYLINDERS=8.0, DISPLACEMENT=350.0, HP=165.0, MODELYEAR=70.0, MPG=15.0, NAME='buick skylark 320', WEIGHT=3693.0),\n",
       " Row(ACCELERATION=11.0, CYLINDERS=8.0, DISPLACEMENT=318.0, HP=150.0, MODELYEAR=70.0, MPG=18.0, NAME='plymouth satellite', WEIGHT=3436.0),\n",
       " Row(ACCELERATION=12.0, CYLINDERS=8.0, DISPLACEMENT=304.0, HP=150.0, MODELYEAR=70.0, MPG=16.0, NAME='amc rebel sst', WEIGHT=3433.0),\n",
       " Row(ACCELERATION=10.5, CYLINDERS=8.0, DISPLACEMENT=302.0, HP=140.0, MODELYEAR=70.0, MPG=17.0, NAME='ford torino', WEIGHT=3449.0)]"
      ]
     },
     "execution_count": 35,
     "metadata": {},
     "output_type": "execute_result"
    }
   ],
   "source": [
    "#Aplly cleandata function and create a new RDD\n",
    "\n",
    "cleanRDD = newRDD.map(cleandata)\n",
    "cleanRDD.take(5)"
   ]
  },
  {
   "cell_type": "markdown",
   "metadata": {},
   "source": [
    "# Exploratory Analisys"
   ]
  },
  {
   "cell_type": "code",
   "execution_count": 13,
   "metadata": {},
   "outputs": [],
   "source": [
    "#create a spark session to use DataFrames\n",
    "sprsession = SparkSession.builder.master(\"local\").appName(\"LinearRegression\").config(\"spark.some.config.option\", \"session\").getOrCreate()"
   ]
  },
  {
   "cell_type": "code",
   "execution_count": 36,
   "metadata": {},
   "outputs": [],
   "source": [
    "dataFrame = sprsession.createDataFrame(cleanRDD)"
   ]
  },
  {
   "cell_type": "code",
   "execution_count": 37,
   "metadata": {},
   "outputs": [
    {
     "name": "stdout",
     "output_type": "stream",
     "text": [
      "+-------+------------------+\n",
      "|summary|                HP|\n",
      "+-------+------------------+\n",
      "|  count|               398|\n",
      "|   mean| 104.0251256281407|\n",
      "| stddev|38.368022630356165|\n",
      "|    min|              46.0|\n",
      "|    max|             230.0|\n",
      "+-------+------------------+\n",
      "\n"
     ]
    }
   ],
   "source": [
    "dataFrame.select(\"HP\").describe().show()"
   ]
  },
  {
   "cell_type": "code",
   "execution_count": 29,
   "metadata": {},
   "outputs": [
    {
     "data": {
      "text/plain": [
       "pyspark.sql.dataframe.DataFrame"
      ]
     },
     "execution_count": 29,
     "metadata": {},
     "output_type": "execute_result"
    }
   ],
   "source": [
    "type(dataFrame)"
   ]
  },
  {
   "cell_type": "code",
   "execution_count": 42,
   "metadata": {},
   "outputs": [
    {
     "name": "stdout",
     "output_type": "stream",
     "text": [
      "ACCELERATION 0.4202889121016501\n",
      "CYLINDERS -0.7753962854205548\n",
      "DISPLACEMENT -0.8042028248058979\n",
      "HP -0.7747041523498721\n",
      "MODELYEAR 0.5792671330833091\n",
      "MPG 1.0\n",
      "WEIGHT -0.8317409332443347\n"
     ]
    }
   ],
   "source": [
    "for c in dataFrame.drop('NAME').columns:\n",
    "    print(c, dataFrame.stat.corr(\"MPG\", c))"
   ]
  },
  {
   "cell_type": "markdown",
   "metadata": {},
   "source": [
    "# Create a LabeledPoint (target, Vector(features))"
   ]
  },
  {
   "cell_type": "code",
   "execution_count": 43,
   "metadata": {},
   "outputs": [],
   "source": [
    "# We will take just the columns with a relevant correlation with the target variable (CYLINDERS, DISPLACEMENT, HP, WEIGHT)\n",
    "def createLabeledPoint(line):\n",
    "    labeledPoint = (line[\"MPG\"], Vectors.dense([line['CYLINDERS'], line['DISPLACEMENT'], line['HP'], line['WEIGHT']]))\n",
    "    return labeledPoint"
   ]
  },
  {
   "cell_type": "code",
   "execution_count": 44,
   "metadata": {},
   "outputs": [
    {
     "name": "stdout",
     "output_type": "stream",
     "text": [
      "+-----+--------------------+\n",
      "|label|            features|\n",
      "+-----+--------------------+\n",
      "| 18.0|[8.0,307.0,130.0,...|\n",
      "| 15.0|[8.0,350.0,165.0,...|\n",
      "| 18.0|[8.0,318.0,150.0,...|\n",
      "| 16.0|[8.0,304.0,150.0,...|\n",
      "| 17.0|[8.0,302.0,140.0,...|\n",
      "| 15.0|[8.0,429.0,198.0,...|\n",
      "| 14.0|[8.0,454.0,220.0,...|\n",
      "| 14.0|[8.0,440.0,215.0,...|\n",
      "| 14.0|[8.0,455.0,225.0,...|\n",
      "| 15.0|[8.0,390.0,190.0,...|\n",
      "+-----+--------------------+\n",
      "only showing top 10 rows\n",
      "\n"
     ]
    }
   ],
   "source": [
    "#Apply createLabeledPoint function to cleanRDD and create a new one\n",
    "finalRDD = cleanRDD.map(createLabeledPoint)\n",
    "df = sprsession.createDataFrame(finalRDD, ['label', 'features'])\n",
    "df.select('label', 'features').show(10)"
   ]
  },
  {
   "cell_type": "code",
   "execution_count": 45,
   "metadata": {},
   "outputs": [
    {
     "data": {
      "text/plain": [
       "[(18.0, DenseVector([8.0, 307.0, 130.0, 3504.0])),\n",
       " (15.0, DenseVector([8.0, 350.0, 165.0, 3693.0]))]"
      ]
     },
     "execution_count": 45,
     "metadata": {},
     "output_type": "execute_result"
    }
   ],
   "source": [
    "finalRDD.take(2)"
   ]
  },
  {
   "cell_type": "markdown",
   "metadata": {},
   "source": [
    "# Apply Linear Regression"
   ]
  },
  {
   "cell_type": "code",
   "execution_count": 46,
   "metadata": {},
   "outputs": [],
   "source": [
    "#Split data\n",
    "trainData, testData = df.randomSplit([0.7, 0.3])"
   ]
  },
  {
   "cell_type": "code",
   "execution_count": 47,
   "metadata": {},
   "outputs": [],
   "source": [
    "#Build model\n",
    "linearReg = LinearRegression()\n",
    "model = linearReg.fit(trainData)"
   ]
  },
  {
   "cell_type": "code",
   "execution_count": 49,
   "metadata": {},
   "outputs": [
    {
     "name": "stdout",
     "output_type": "stream",
     "text": [
      "Coefficients: [-0.12798906238146662,-0.004204549739968073,-0.03309084254915513,-0.005446737456384402]\n",
      "Intercept: 44.54593365018349\n"
     ]
    }
   ],
   "source": [
    "#Coefficients and Intercept\n",
    "print(\"Coefficients: \" + str(model.coefficients))\n",
    "print(\"Intercept: \" + str(model.intercept))"
   ]
  },
  {
   "cell_type": "code",
   "execution_count": 50,
   "metadata": {},
   "outputs": [
    {
     "name": "stdout",
     "output_type": "stream",
     "text": [
      "+------------------+--------------------+\n",
      "|        prediction|            features|\n",
      "+------------------+--------------------+\n",
      "|11.778132761992389|[8.0,307.0,200.0,...|\n",
      "| 16.13723104310256|[8.0,350.0,180.0,...|\n",
      "|12.485231828629217|[8.0,350.0,160.0,...|\n",
      "| 9.592336588413751|[8.0,400.0,167.0,...|\n",
      "|20.722817441538222|[8.0,302.0,129.0,...|\n",
      "|15.608684753308115|[8.0,307.0,130.0,...|\n",
      "|12.400136118381312|[8.0,350.0,155.0,...|\n",
      "|13.311083832945403|[8.0,350.0,165.0,...|\n",
      "|13.927907724864738|[8.0,350.0,175.0,...|\n",
      "|15.405501977796305|[8.0,360.0,175.0,...|\n",
      "|12.562338867471293|[8.0,400.0,150.0,...|\n",
      "|10.364542053787787|[8.0,400.0,170.0,...|\n",
      "|15.703088901721394|[8.0,302.0,137.0,...|\n",
      "|15.014999341769435|[8.0,318.0,150.0,...|\n",
      "|14.143521348747932|[8.0,318.0,150.0,...|\n",
      "| 13.66512176761039|[8.0,350.0,165.0,...|\n",
      "|10.061698201385404|[8.0,455.0,225.0,...|\n",
      "|16.081509467560103|[8.0,304.0,150.0,...|\n",
      "|14.699088569299143|[8.0,318.0,150.0,...|\n",
      "| 15.01867427555431|[8.0,350.0,145.0,...|\n",
      "+------------------+--------------------+\n",
      "only showing top 20 rows\n",
      "\n"
     ]
    }
   ],
   "source": [
    "#Test model\n",
    "predictions = model.transform(testData)\n",
    "predictions.select(\"prediction\", \"features\").show()"
   ]
  },
  {
   "cell_type": "code",
   "execution_count": 51,
   "metadata": {},
   "outputs": [
    {
     "data": {
      "text/plain": [
       "0.7174335640194515"
      ]
     },
     "execution_count": 51,
     "metadata": {},
     "output_type": "execute_result"
    }
   ],
   "source": [
    "#Evaluate model\n",
    "RegressionEvaluator(predictionCol = \"prediction\", labelCol=\"label\", metricName=\"r2\").evaluate(predictions)"
   ]
  }
 ],
 "metadata": {
  "kernelspec": {
   "display_name": "Python 3",
   "language": "python",
   "name": "python3"
  },
  "language_info": {
   "codemirror_mode": {
    "name": "ipython",
    "version": 3
   },
   "file_extension": ".py",
   "mimetype": "text/x-python",
   "name": "python",
   "nbconvert_exporter": "python",
   "pygments_lexer": "ipython3",
   "version": "3.6.4"
  }
 },
 "nbformat": 4,
 "nbformat_minor": 2
}
